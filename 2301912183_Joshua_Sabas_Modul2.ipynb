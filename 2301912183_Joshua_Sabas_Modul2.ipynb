{
  "nbformat": 4,
  "nbformat_minor": 0,
  "metadata": {
    "colab": {
      "name": "2301912183_Joshua Sabas_Modul2",
      "provenance": []
    },
    "kernelspec": {
      "name": "python3",
      "display_name": "Python 3"
    },
    "language_info": {
      "name": "python"
    }
  },
  "cells": [
    {
      "cell_type": "code",
      "metadata": {
        "id": "mACZx8DT4huT"
      },
      "source": [
        "B=[\"a\",\"b\",\"c\"]\n",
        "A=(0,1,2,3)"
      ],
      "execution_count": 3,
      "outputs": []
    },
    {
      "cell_type": "code",
      "metadata": {
        "colab": {
          "base_uri": "https://localhost:8080/"
        },
        "id": "SECIrEBJ4mjz",
        "outputId": "c7501fcc-c390-4150-cc09-184690e1dca8"
      },
      "source": [
        "\n",
        "print(B[1:])"
      ],
      "execution_count": 5,
      "outputs": [
        {
          "output_type": "stream",
          "name": "stdout",
          "text": [
            "['b', 'c']\n"
          ]
        }
      ]
    },
    {
      "cell_type": "markdown",
      "metadata": {
        "id": "zONy_8pO5CGS"
      },
      "source": [
        "Tuple\n"
      ]
    },
    {
      "cell_type": "code",
      "metadata": {
        "colab": {
          "base_uri": "https://localhost:8080/"
        },
        "id": "fD6dPYYr5By1",
        "outputId": "738bf633-cfaf-45c5-9e70-0955801f39d0"
      },
      "source": [
        "tpl1 =(\"dadu dua\", 10, 1.4)\n",
        "print(tpl1[0])\n",
        "print(tpl1[2])\n",
        "print(tpl1[0].split())"
      ],
      "execution_count": 37,
      "outputs": [
        {
          "output_type": "stream",
          "name": "stdout",
          "text": [
            "dadu dua\n",
            "1.4\n",
            "['dadu', 'dua']\n"
          ]
        }
      ]
    },
    {
      "cell_type": "code",
      "metadata": {
        "colab": {
          "base_uri": "https://localhost:8080/"
        },
        "id": "wPl2m9Dg5sv0",
        "outputId": "8bc7b44a-7652-4834-d383-9477f7ee051d"
      },
      "source": [
        "tpl2 = tpl1 + (\"hard rock\", 30)\n",
        "print(tpl2)\n",
        "print(tpl2[0:3]) #menampilkan dari nilai array 0 sampai 3\n",
        "print(tpl2[3:5]) #menampilkan dari nilai array 3 sampai 5\n",
        "print(len(tpl2)) #panjang dari tuple"
      ],
      "execution_count": 13,
      "outputs": [
        {
          "output_type": "stream",
          "name": "stdout",
          "text": [
            "('dadu', 10, 1.4, 'hard rock', 30)\n",
            "('dadu', 10, 1.4)\n",
            "('hard rock', 30)\n",
            "5\n"
          ]
        }
      ]
    },
    {
      "cell_type": "markdown",
      "metadata": {
        "id": "n3fMxto67RkZ"
      },
      "source": [
        "Lists\n",
        "\n",
        "L.extend([\"pops\",10]) nantinya akan memisah menjadi 2 posisi array dan\n",
        "L.append([\"pops\",10]) nantinya akan menjadi 1 nilai posisi array"
      ]
    },
    {
      "cell_type": "code",
      "metadata": {
        "colab": {
          "base_uri": "https://localhost:8080/"
        },
        "id": "M_4y1Yjc7T8-",
        "outputId": "4ff4be29-fcfc-4bd9-ad94-0e92dd208d60"
      },
      "source": [
        "L = [\"JOshua\",10.25, 2000, [1,2], ('A',1)]\n",
        "print(L[0])# untuk biasanya kita akan memanggil nilainya dengan menyertakan nilai dari indexnya, akan tetapi dalam Lists bisa dimulai dengan index -(negatif)\n",
        "print(L[-5], L[-1])"
      ],
      "execution_count": 20,
      "outputs": [
        {
          "output_type": "stream",
          "name": "stdout",
          "text": [
            "JOshua\n",
            "JOshua ('A', 1)\n"
          ]
        }
      ]
    },
    {
      "cell_type": "code",
      "metadata": {
        "colab": {
          "base_uri": "https://localhost:8080/"
        },
        "id": "NyJ-LlGn8UQ2",
        "outputId": "8e64398d-b7d6-4381-8298-0a6c52d5f2c8"
      },
      "source": [
        "L2 = L +[\"pops\", 102]\n",
        "\n",
        "print(L2,\"jumlah = \",len(L2))\n"
      ],
      "execution_count": 25,
      "outputs": [
        {
          "output_type": "stream",
          "name": "stdout",
          "text": [
            "['JOshua', 10.25, 2000, [1, 2], ('A', 1), 'pops', 102, 'pops', 102] jumlah =  9\n"
          ]
        }
      ]
    },
    {
      "cell_type": "markdown",
      "metadata": {
        "id": "pstOkUQp_pTp"
      },
      "source": [
        "Lists Aliasing"
      ]
    },
    {
      "cell_type": "code",
      "metadata": {
        "colab": {
          "base_uri": "https://localhost:8080/"
        },
        "id": "KmbDWR8B_Chj",
        "outputId": "487172e2-16d9-441d-8af2-5915de8a7c7c"
      },
      "source": [
        "A = [\"hard rock\", 10.10, 12]\n",
        "B = A\n",
        "\n",
        "A[0] = \"Bananana\"\n",
        "\n",
        "print(B)\n",
        "\n"
      ],
      "execution_count": 39,
      "outputs": [
        {
          "output_type": "stream",
          "name": "stdout",
          "text": [
            "['Bananana', 10.1, 12]\n"
          ]
        }
      ]
    },
    {
      "cell_type": "markdown",
      "metadata": {
        "id": "sxMdLZmM_jQ0"
      },
      "source": [
        "Lists Clone"
      ]
    },
    {
      "cell_type": "code",
      "metadata": {
        "colab": {
          "base_uri": "https://localhost:8080/"
        },
        "id": "uM26FALr_dgr",
        "outputId": "8d8a8785-aaa5-4c25-c2c6-19cde872642d"
      },
      "source": [
        "A = [\"hard rock\", 10.10, 12]\n",
        "B = A[:]\n",
        "print(B)"
      ],
      "execution_count": 41,
      "outputs": [
        {
          "output_type": "stream",
          "name": "stdout",
          "text": [
            "['hard rock', 10.1, 12]\n"
          ]
        }
      ]
    },
    {
      "cell_type": "markdown",
      "metadata": {
        "id": "qTFq6FWlDJDW"
      },
      "source": [
        "Sets"
      ]
    },
    {
      "cell_type": "code",
      "metadata": {
        "colab": {
          "base_uri": "https://localhost:8080/"
        },
        "id": "0rpY6aWUDSIE",
        "outputId": "6123a51a-46a5-4789-8d91-16a74f591b73"
      },
      "source": [
        "#berguna untuk menyeleksi jika terdapat sting yang sama\n",
        "\n",
        "name_set = [\"Joshua\", \"Wibrian\", \"Lucas\", \"Ruth\", \"Wibrian\", \"Joshua\"]\n",
        "print(set(name_set))\n"
      ],
      "execution_count": 44,
      "outputs": [
        {
          "output_type": "stream",
          "name": "stdout",
          "text": [
            "{'Ruth', 'Wibrian', 'Lucas', 'Joshua'}\n"
          ]
        }
      ]
    },
    {
      "cell_type": "code",
      "metadata": {
        "colab": {
          "base_uri": "https://localhost:8080/"
        },
        "id": "3b449Ul2E2tG",
        "outputId": "1e20ae3a-2618-4a41-e669-4db839c922af"
      },
      "source": [
        "#Set operasi\n",
        "\n",
        "A={\"JO\",\"WI\",\"LU\",\"RU\"}\n",
        "C={\"JO\",\"FI\",\"WI\",\"MA\"}\n",
        "A.add(\"DI\") #untuk menambah String DI\n",
        "\n",
        "print(A)\n",
        "B = (\"JO\" in A) # cek status apakah berada di A atau tidak\n",
        "print(B)\n",
        "A.remove(\"RU\") # Untuk meremove String RU\n",
        "print (A)\n",
        "\n",
        "D = A.union(C) #menggabungkan seperti diagram vent\n",
        "print(D)\n",
        "\n",
        "E = D.issubset(A) # akan mengeluarkan hasil yang false karena set di album D tidak sama dengan A\n",
        "print(E)\n",
        "\n"
      ],
      "execution_count": 53,
      "outputs": [
        {
          "output_type": "stream",
          "name": "stdout",
          "text": [
            "{'LU', 'WI', 'JO', 'DI', 'RU'}\n",
            "True\n",
            "{'LU', 'WI', 'JO', 'DI'}\n",
            "{'FI', 'LU', 'WI', 'JO', 'DI', 'MA'}\n",
            "False\n"
          ]
        }
      ]
    },
    {
      "cell_type": "markdown",
      "metadata": {
        "id": "kgWhnE5EDLqj"
      },
      "source": [
        "Dictionaries"
      ]
    },
    {
      "cell_type": "code",
      "metadata": {
        "colab": {
          "base_uri": "https://localhost:8080/"
        },
        "id": "HMHlvyGECCFp",
        "outputId": "f6ac3f86-f729-47db-b8f7-5d7f6d4ba0a8"
      },
      "source": [
        "Dict={\"A\":1,\"B\":\"2\",\"C\":[3,3,3],\"D\":(4,4,4),'E':5,'F' :6}\n",
        "print(Dict[\"D\"])"
      ],
      "execution_count": 43,
      "outputs": [
        {
          "output_type": "stream",
          "name": "stdout",
          "text": [
            "(4, 4, 4)\n"
          ]
        }
      ]
    },
    {
      "cell_type": "code",
      "metadata": {
        "colab": {
          "base_uri": "https://localhost:8080/"
        },
        "id": "2IsjFAI-JB14",
        "outputId": "b2f4392a-d503-499d-b8aa-444b5778edd0"
      },
      "source": [
        "D={'a':0,'b':1,'c':2}\n",
        "print(D.values())\n",
        "\n",
        "D={'a':0,'b':1,'c':2}\n",
        "print(D['b'])"
      ],
      "execution_count": 56,
      "outputs": [
        {
          "output_type": "stream",
          "name": "stdout",
          "text": [
            "dict_values([0, 1, 2])\n",
            "1\n"
          ]
        }
      ]
    },
    {
      "cell_type": "code",
      "metadata": {
        "colab": {
          "base_uri": "https://localhost:8080/"
        },
        "id": "azbeaRpZJlRU",
        "outputId": "326a3a54-5d5e-4673-ba8f-7417fb0c9d49"
      },
      "source": [
        "Data = {\"Graud:\":1923, \"Black bag:\":8302, \"wakaranai: \":9313, \"the ring bell:\":9302}\n",
        "\n",
        "print(Data[\"Graud:\"]) #menampilkan data yang diminta\n",
        "Data[\"Graduation\"]='2023' #menambah data\n",
        "print(Data)\n",
        "del(Data[\"Graud:\"]) #menghapus data\n",
        "print(Data)\n",
        "print(\"wakaranai: \" in Data) #mengseleksi apakah Wakaranai: ada didalam Data\n",
        "print(\"Graud:\" in Data) #karena sebelumnya data graud dihapus\n",
        "\n",
        "print(Data.keys()) #menampilkan semua data\n",
        "print(Data.values()) #menampilkan nilai yang dimiliki data"
      ],
      "execution_count": 81,
      "outputs": [
        {
          "output_type": "stream",
          "name": "stdout",
          "text": [
            "1923\n",
            "{'Graud:': 1923, 'Black bag:': 8302, 'wakaranai: ': 9313, 'the ring bell:': 9302, 'Graduation': '2023'}\n",
            "{'Black bag:': 8302, 'wakaranai: ': 9313, 'the ring bell:': 9302, 'Graduation': '2023'}\n",
            "True\n",
            "False\n",
            "dict_keys(['Black bag:', 'wakaranai: ', 'the ring bell:', 'Graduation'])\n",
            "dict_values([8302, 9313, 9302, '2023'])\n"
          ]
        }
      ]
    }
  ]
}