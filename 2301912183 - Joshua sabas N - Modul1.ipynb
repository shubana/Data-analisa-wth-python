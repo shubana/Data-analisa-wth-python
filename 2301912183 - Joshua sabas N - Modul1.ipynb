{
 "cells": [
  {
   "cell_type": "code",
   "execution_count": 26,
   "id": "3d91f0dc",
   "metadata": {},
   "outputs": [
    {
     "name": "stdout",
     "output_type": "stream",
     "text": [
      "hello pyhton\n",
      "hello \\python01\n"
     ]
    }
   ],
   "source": [
    "print(\"hello pyhton\")\n",
    "print('hello \\python01')"
   ]
  },
  {
   "cell_type": "code",
   "execution_count": 12,
   "id": "d787a3bd",
   "metadata": {},
   "outputs": [
    {
     "data": {
      "text/plain": [
       "2.0"
      ]
     },
     "execution_count": 12,
     "metadata": {},
     "output_type": "execute_result"
    }
   ],
   "source": [
    "float(2)"
   ]
  },
  {
   "cell_type": "code",
   "execution_count": 14,
   "id": "a027528b",
   "metadata": {},
   "outputs": [
    {
     "data": {
      "text/plain": [
       "True"
      ]
     },
     "execution_count": 14,
     "metadata": {},
     "output_type": "execute_result"
    }
   ],
   "source": [
    "bool(1)"
   ]
  },
  {
   "cell_type": "code",
   "execution_count": 17,
   "id": "23289d82",
   "metadata": {
    "scrolled": false
   },
   "outputs": [
    {
     "data": {
      "text/plain": [
       "False"
      ]
     },
     "execution_count": 17,
     "metadata": {},
     "output_type": "execute_result"
    }
   ],
   "source": [
    "bool(0)"
   ]
  },
  {
   "cell_type": "code",
   "execution_count": 18,
   "id": "f7f6715f",
   "metadata": {},
   "outputs": [
    {
     "data": {
      "text/plain": [
       "4.166666666666667"
      ]
     },
     "execution_count": 18,
     "metadata": {},
     "output_type": "execute_result"
    }
   ],
   "source": [
    "25/6"
   ]
  },
  {
   "cell_type": "code",
   "execution_count": 19,
   "id": "3173553c",
   "metadata": {},
   "outputs": [
    {
     "data": {
      "text/plain": [
       "4"
      ]
     },
     "execution_count": 19,
     "metadata": {},
     "output_type": "execute_result"
    }
   ],
   "source": [
    "25//6"
   ]
  },
  {
   "cell_type": "code",
   "execution_count": 20,
   "id": "5381cfa1",
   "metadata": {},
   "outputs": [
    {
     "data": {
      "text/plain": [
       "20"
      ]
     },
     "execution_count": 20,
     "metadata": {},
     "output_type": "execute_result"
    }
   ],
   "source": [
    "2*9+2"
   ]
  },
  {
   "cell_type": "code",
   "execution_count": 24,
   "id": "1a76e356",
   "metadata": {},
   "outputs": [
    {
     "name": "stdout",
     "output_type": "stream",
     "text": [
      "3\n"
     ]
    }
   ],
   "source": [
    "total = 30 + 90 + 30\n",
    "Op = total//50\n",
    "print(Op)"
   ]
  },
  {
   "cell_type": "code",
   "execution_count": 25,
   "id": "33c4790a",
   "metadata": {},
   "outputs": [
    {
     "name": "stdout",
     "output_type": "stream",
     "text": [
      "12.0\n"
     ]
    }
   ],
   "source": [
    "x = 30*2+60\n",
    "y = x/10\n",
    "print(y)"
   ]
  },
  {
   "cell_type": "code",
   "execution_count": 27,
   "id": "028054ef",
   "metadata": {},
   "outputs": [
    {
     "data": {
      "text/plain": [
       "int"
      ]
     },
     "execution_count": 27,
     "metadata": {},
     "output_type": "execute_result"
    }
   ],
   "source": [
    "type(2000)"
   ]
  },
  {
   "cell_type": "code",
   "execution_count": 28,
   "id": "41942e5c",
   "metadata": {},
   "outputs": [
    {
     "data": {
      "text/plain": [
       "float"
      ]
     },
     "execution_count": 28,
     "metadata": {},
     "output_type": "execute_result"
    }
   ],
   "source": [
    "type(20.00)"
   ]
  },
  {
   "cell_type": "code",
   "execution_count": 30,
   "id": "59372795",
   "metadata": {},
   "outputs": [
    {
     "data": {
      "text/plain": [
       "str"
      ]
     },
     "execution_count": 30,
     "metadata": {},
     "output_type": "execute_result"
    }
   ],
   "source": [
    "type(\"Hello ms caue22\")"
   ]
  },
  {
   "cell_type": "code",
   "execution_count": 31,
   "id": "6cdc1c9d",
   "metadata": {},
   "outputs": [
    {
     "data": {
      "text/plain": [
       "'Joshua Sabas'"
      ]
     },
     "execution_count": 31,
     "metadata": {},
     "output_type": "execute_result"
    }
   ],
   "source": [
    "#string \n",
    "\"Joshua Sabas\""
   ]
  },
  {
   "cell_type": "code",
   "execution_count": 32,
   "id": "6589f043",
   "metadata": {},
   "outputs": [
    {
     "name": "stdout",
     "output_type": "stream",
     "text": [
      "Joshu\n"
     ]
    }
   ],
   "source": [
    "#bermain Array\n",
    "name = \"Joshua sabas nirwana\"\n",
    "print(name[0:5])"
   ]
  },
  {
   "cell_type": "code",
   "execution_count": 33,
   "id": "62753493",
   "metadata": {},
   "outputs": [
    {
     "name": "stdout",
     "output_type": "stream",
     "text": [
      "Jsu aa iwn\n"
     ]
    }
   ],
   "source": [
    "#mencari nama di aary genap #mencari nama di aary ganjil print(name:[::3])\n",
    "name = \"Joshua sabas nirwana\"\n",
    "print(name[::2])\n",
    "#mencari nama di aary ganjil print(name:[::3])"
   ]
  },
  {
   "cell_type": "code",
   "execution_count": 34,
   "id": "f3de001f",
   "metadata": {},
   "outputs": [
    {
     "name": "stdout",
     "output_type": "stream",
     "text": [
      "hu\n"
     ]
    }
   ],
   "source": [
    "#bermain Array\n",
    "name = \"Joshua sabas nirwana\"\n",
    "print(name[3:5])"
   ]
  },
  {
   "cell_type": "code",
   "execution_count": 35,
   "id": "3907c885",
   "metadata": {},
   "outputs": [
    {
     "data": {
      "text/plain": [
       "20"
      ]
     },
     "execution_count": 35,
     "metadata": {},
     "output_type": "execute_result"
    }
   ],
   "source": [
    "#mendapatkan panjang karakter\n",
    "name = \"Joshua sabas nirwana\"\n",
    "len(name)"
   ]
  },
  {
   "cell_type": "code",
   "execution_count": 38,
   "id": "ac22089e",
   "metadata": {},
   "outputs": [
    {
     "name": "stdout",
     "output_type": "stream",
     "text": [
      "Joshua sabas nirwana sinau python\n"
     ]
    }
   ],
   "source": [
    "name = \"Joshua sabas nirwana\"\n",
    "State = name + \" sinau python\"\n",
    "print(State)"
   ]
  },
  {
   "cell_type": "code",
   "execution_count": 40,
   "id": "69e3abce",
   "metadata": {},
   "outputs": [
    {
     "data": {
      "text/plain": [
       "' Joshua sabas nirwana Joshua sabas nirwana Joshua sabas nirwana'"
      ]
     },
     "execution_count": 40,
     "metadata": {},
     "output_type": "execute_result"
    }
   ],
   "source": [
    "#mengandakan string dengan angka\n",
    "3*\" Joshua sabas nirwana\""
   ]
  },
  {
   "cell_type": "code",
   "execution_count": 47,
   "id": "27e72043",
   "metadata": {},
   "outputs": [
    {
     "name": "stdout",
     "output_type": "stream",
     "text": [
      "Joshua\n",
      " sabas\\ nirwana \tapa?\n"
     ]
    }
   ],
   "source": [
    "print(\"Joshua\\n sabas\\\\ nirwana \\tapa?\")"
   ]
  },
  {
   "cell_type": "code",
   "execution_count": 48,
   "id": "6ae95dd1",
   "metadata": {},
   "outputs": [
    {
     "name": "stdout",
     "output_type": "stream",
     "text": [
      "JOSHUA SABAS NIRWANA\n"
     ]
    }
   ],
   "source": [
    "#string methods\n",
    "name = \"Joshua sabas nirwana\"\n",
    "print(name.upper())"
   ]
  },
  {
   "cell_type": "code",
   "execution_count": 49,
   "id": "daaa8a4d",
   "metadata": {},
   "outputs": [
    {
     "name": "stdout",
     "output_type": "stream",
     "text": [
      "joshua sabas nirwana\n"
     ]
    }
   ],
   "source": [
    "name = \"JOSHUA SABAS NIRWANA\"\n",
    "print (name.lower())"
   ]
  },
  {
   "cell_type": "code",
   "execution_count": 50,
   "id": "a1281231",
   "metadata": {},
   "outputs": [
    {
     "name": "stdout",
     "output_type": "stream",
     "text": [
      "Ruth berenang bersama teman\n"
     ]
    }
   ],
   "source": [
    "#mengganti string\n",
    "name = \"Joshua berenang bersama teman\"\n",
    "print(name.replace('Joshua', 'Ruth'))"
   ]
  },
  {
   "cell_type": "code",
   "execution_count": 56,
   "id": "57e813a2",
   "metadata": {},
   "outputs": [
    {
     "name": "stdout",
     "output_type": "stream",
     "text": [
      "24\n"
     ]
    }
   ],
   "source": [
    "name = \"Joshua berenang bersama teman\"\n",
    "print(name.find('teman'))\n",
    "#t berada di array 24"
   ]
  },
  {
   "cell_type": "code",
   "execution_count": 57,
   "id": "6c4470eb",
   "metadata": {},
   "outputs": [
    {
     "name": "stdout",
     "output_type": "stream",
     "text": [
      "0369\n"
     ]
    }
   ],
   "source": [
    "angka = \"0123456789\"\n",
    "print(angka[::3])"
   ]
  },
  {
   "cell_type": "code",
   "execution_count": 58,
   "id": "72df05d1",
   "metadata": {},
   "outputs": [
    {
     "name": "stdout",
     "output_type": "stream",
     "text": [
      "06\n"
     ]
    }
   ],
   "source": [
    "print(angka[::6])"
   ]
  },
  {
   "cell_type": "code",
   "execution_count": 59,
   "id": "4a06c290",
   "metadata": {},
   "outputs": [
    {
     "data": {
      "text/plain": [
       "'1220'"
      ]
     },
     "execution_count": 59,
     "metadata": {},
     "output_type": "execute_result"
    }
   ],
   "source": [
    "'1' + '2' +'20'"
   ]
  },
  {
   "cell_type": "code",
   "execution_count": null,
   "id": "a7e1bf33",
   "metadata": {},
   "outputs": [],
   "source": []
  }
 ],
 "metadata": {
  "kernelspec": {
   "display_name": "Python 3 (ipykernel)",
   "language": "python",
   "name": "python3"
  },
  "language_info": {
   "codemirror_mode": {
    "name": "ipython",
    "version": 3
   },
   "file_extension": ".py",
   "mimetype": "text/x-python",
   "name": "python",
   "nbconvert_exporter": "python",
   "pygments_lexer": "ipython3",
   "version": "3.9.7"
  }
 },
 "nbformat": 4,
 "nbformat_minor": 5
}
